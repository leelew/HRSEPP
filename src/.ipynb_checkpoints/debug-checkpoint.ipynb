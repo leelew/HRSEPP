{
 "cells": [
  {
   "cell_type": "code",
   "execution_count": 1,
   "metadata": {},
   "outputs": [
    {
     "data": {
      "text/plain": [
       "(6, 731, 6)"
      ]
     },
     "execution_count": 1,
     "metadata": {},
     "output_type": "execute_result"
    }
   ],
   "source": [
    "import numpy as np\n",
    "x = np.load('X.npy')\n",
    "y = np.load('y.npy')\n",
    "\n",
    "x = np.concatenate([x,y], axis=-1)\n",
    "\n",
    "X = np.transpose(x.reshape(732, 6, 7)[:-1],[1,0,2])\n",
    "y = np.transpose(y.reshape(732, 6, 1)[1:], [1,0,2])\n",
    "\n",
    "y.shape\n",
    "X.shape"
   ]
  },
  {
   "cell_type": "code",
   "execution_count": 2,
   "metadata": {},
   "outputs": [
    {
     "name": "stderr",
     "output_type": "stream",
     "text": [
      "/work/lilu/HRSEPP/src/model/shen.py:118: UserWarning: RNN module weights are not part of single contiguous chunk of memory. This means they need to be compacted at every call, possibly greatly increasing memory usage. To compact weights again call flatten_parameters(). (Triggered internally at  /pytorch/aten/src/ATen/native/cudnn/RNN.cpp:775.)\n",
      "  self.hiddenSize, 1, False, 0, self.training, False, (), None)\n"
     ]
    },
    {
     "name": "stdout",
     "output_type": "stream",
     "text": [
      "Epoch 1 Loss 0.098 time 1.01\n",
      "Epoch 2 Loss 0.069 time 1.03\n",
      "Epoch 3 Loss 0.056 time 1.04\n",
      "Epoch 4 Loss 0.056 time 1.02\n",
      "Epoch 5 Loss 0.053 time 1.01\n",
      "Epoch 6 Loss 0.050 time 1.01\n",
      "Epoch 7 Loss 0.050 time 1.02\n",
      "Epoch 8 Loss 0.047 time 1.03\n",
      "Epoch 9 Loss 0.047 time 1.02\n",
      "Epoch 10 Loss 0.046 time 1.03\n",
      "Epoch 11 Loss 0.046 time 1.02\n",
      "Epoch 12 Loss 0.045 time 1.02\n",
      "Epoch 13 Loss 0.045 time 1.04\n",
      "Epoch 14 Loss 0.044 time 1.04\n",
      "Epoch 15 Loss 0.045 time 1.05\n",
      "Epoch 16 Loss 0.044 time 1.05\n",
      "Epoch 17 Loss 0.043 time 1.04\n",
      "Epoch 18 Loss 0.043 time 1.06\n",
      "Epoch 19 Loss 0.043 time 1.05\n",
      "Epoch 20 Loss 0.042 time 1.06\n",
      "Epoch 21 Loss 0.042 time 1.04\n",
      "Epoch 22 Loss 0.042 time 1.04\n",
      "Epoch 23 Loss 0.041 time 1.05\n",
      "Epoch 24 Loss 0.041 time 1.05\n",
      "Epoch 25 Loss 0.042 time 1.05\n",
      "Epoch 26 Loss 0.041 time 1.06\n",
      "Epoch 27 Loss 0.042 time 1.02\n",
      "Epoch 28 Loss 0.041 time 1.02\n",
      "Epoch 29 Loss 0.041 time 1.04\n",
      "Epoch 30 Loss 0.042 time 1.02\n",
      "Epoch 31 Loss 0.040 time 1.03\n",
      "Epoch 32 Loss 0.041 time 1.02\n",
      "Epoch 33 Loss 0.040 time 1.03\n",
      "Epoch 34 Loss 0.041 time 1.03\n",
      "Epoch 35 Loss 0.041 time 1.02\n",
      "Epoch 36 Loss 0.040 time 1.02\n",
      "Epoch 37 Loss 0.041 time 1.02\n",
      "Epoch 38 Loss 0.040 time 1.02\n",
      "Epoch 39 Loss 0.040 time 1.02\n",
      "Epoch 40 Loss 0.040 time 1.02\n",
      "Epoch 41 Loss 0.040 time 1.02\n",
      "Epoch 42 Loss 0.039 time 1.02\n",
      "Epoch 43 Loss 0.039 time 1.03\n",
      "Epoch 44 Loss 0.039 time 1.03\n",
      "Epoch 45 Loss 0.040 time 1.03\n",
      "Epoch 46 Loss 0.039 time 1.04\n",
      "Epoch 47 Loss 0.040 time 1.03\n",
      "Epoch 48 Loss 0.040 time 1.02\n",
      "Epoch 49 Loss 0.039 time 1.01\n",
      "Epoch 50 Loss 0.039 time 1.02\n"
     ]
    }
   ],
   "source": [
    "from model.train import train\n",
    "\n",
    "model = train(X,y)"
   ]
  },
  {
   "cell_type": "code",
   "execution_count": 5,
   "metadata": {},
   "outputs": [
    {
     "name": "stdout",
     "output_type": "stream",
     "text": [
      "tf.Tensor(104.45856, shape=(), dtype=float32)\n",
      "epoch 0: MSE is 0.4541676342487335, cost time: 12.646243333816528\n",
      "tf.Tensor(83.8357, shape=(), dtype=float32)\n",
      "epoch 1: MSE is 0.36450305581092834, cost time: 12.60050654411316\n",
      "tf.Tensor(58.866566, shape=(), dtype=float32)\n",
      "epoch 2: MSE is 0.25594159960746765, cost time: 12.617806911468506\n",
      "tf.Tensor(35.177895, shape=(), dtype=float32)\n",
      "epoch 3: MSE is 0.15294736623764038, cost time: 12.640567779541016\n",
      "tf.Tensor(27.78847, shape=(), dtype=float32)\n",
      "epoch 4: MSE is 0.12081943452358246, cost time: 12.84595274925232\n",
      "tf.Tensor(26.729073, shape=(), dtype=float32)\n",
      "epoch 5: MSE is 0.116213358938694, cost time: 12.836087942123413\n",
      "tf.Tensor(25.74283, shape=(), dtype=float32)\n",
      "epoch 6: MSE is 0.11192534863948822, cost time: 12.669172286987305\n",
      "tf.Tensor(25.047062, shape=(), dtype=float32)\n",
      "epoch 7: MSE is 0.1089002713561058, cost time: 12.74332308769226\n",
      "tf.Tensor(24.0968, shape=(), dtype=float32)\n",
      "epoch 8: MSE is 0.10476869344711304, cost time: 12.565914630889893\n",
      "tf.Tensor(23.123417, shape=(), dtype=float32)\n",
      "epoch 9: MSE is 0.10053659230470657, cost time: 12.454777717590332\n"
     ]
    }
   ],
   "source": [
    "from model.__model import GlobalLSTM\n",
    "from model.__train_model import train, rmse_loss\n",
    "\n",
    "model = GlobalLSTM(256)\n",
    "\n",
    "model = train(model,\n",
    "      X,\n",
    "      y,\n",
    "      loss_func=rmse_loss,\n",
    "      epochs=10,\n",
    "      batch_size=6,\n",
    "      rho=30)"
   ]
  },
  {
   "cell_type": "code",
   "execution_count": 3,
   "metadata": {},
   "outputs": [
    {
     "data": {
      "text/plain": [
       "(6, 183, 6)"
      ]
     },
     "execution_count": 3,
     "metadata": {},
     "output_type": "execute_result"
    }
   ],
   "source": [
    "x_test = np.load('X_test.npy')\n",
    "y_test = np.load('y_test.npy')\n",
    "\n",
    "#x_test = np.concatenate([x_test,y_test], axis=-1)\n",
    "\n",
    "\n",
    "x_test = np.transpose(x_test.reshape(184, 6, 6)[:-1], [1,0,2])\n",
    "y_test = np.transpose(y_test.reshape(184, 6, 1)[1:], [1,0,2])\n",
    "\n",
    "x_test.shape\n",
    "#y_test.shape\n"
   ]
  },
  {
   "cell_type": "code",
   "execution_count": 4,
   "metadata": {},
   "outputs": [],
   "source": [
    "model.train(mode=False)\n",
    "import torch\n",
    "x_test = torch.Tensor(x_test).float().cuda()\n",
    "#x_test = torch.from_numpy(x_test_)\n",
    "yp = model(x_test)"
   ]
  },
  {
   "cell_type": "code",
   "execution_count": 5,
   "metadata": {},
   "outputs": [],
   "source": [
    "m = np.array(yp.cuda().data.cpu().numpy())"
   ]
  },
  {
   "cell_type": "code",
   "execution_count": null,
   "metadata": {},
   "outputs": [],
   "source": []
  },
  {
   "cell_type": "code",
   "execution_count": 6,
   "metadata": {},
   "outputs": [
    {
     "name": "stdout",
     "output_type": "stream",
     "text": [
      "0.1886349781071982\n",
      "0.016025344871166886\n",
      "-7.866415197703153\n",
      "0.07019587641213701\n",
      "-3.2305731312806207\n",
      "0.04040161162136251\n",
      "-3.5662254182145663\n",
      "0.04450463797231489\n",
      "-4.393873187520592\n",
      "0.047494192259733566\n",
      "-4.488396021165482\n",
      "0.04905384357069497\n"
     ]
    }
   ],
   "source": [
    "from sklearn.metrics import r2_score, mean_squared_error\n",
    "for i in range(6):\n",
    "    print(r2_score(y_test[i,:], m[i,:]))\n",
    "    print(np.sqrt(mean_squared_error(y_test[i, :], m[i,:])))"
   ]
  },
  {
   "cell_type": "code",
   "execution_count": 11,
   "metadata": {},
   "outputs": [
    {
     "data": {
      "text/plain": [
       "[<matplotlib.lines.Line2D at 0x7f9d4e1b7d30>]"
      ]
     },
     "execution_count": 11,
     "metadata": {},
     "output_type": "execute_result"
    },
    {
     "data": {
      "image/png": "[encoded data removed]",
      "text/plain": [
       "<Figure size 432x288 with 1 Axes>"
      ]
     },
     "metadata": {
      "needs_background": "light"
     },
     "output_type": "display_data"
    }
   ],
   "source": [
    "import matplotlib.pyplot as plt\n",
    "\n",
    "plt.plot(m[4])\n",
    "#plt.plot(yp[3])\n",
    "\n",
    "plt.plot(y_test[4])\n",
    "#plt.plot(y_test[5])\n"
   ]
  },
  {
   "cell_type": "code",
   "execution_count": 5,
   "metadata": {
    "scrolled": true
   },
   "outputs": [
    {
     "name": "stdout",
     "output_type": "stream",
     "text": [
      "Epoch 1/100\n",
      "45/45 [==============================] - 3s 20ms/step - loss: 0.0858\n",
      "Epoch 2/100\n",
      "45/45 [==============================] - 1s 21ms/step - loss: 0.0010\n",
      "Epoch 3/100\n",
      "45/45 [==============================] - 1s 21ms/step - loss: 3.1432e-04\n",
      "Epoch 4/100\n",
      "45/45 [==============================] - 1s 21ms/step - loss: 3.0667e-04\n",
      "Epoch 5/100\n",
      "45/45 [==============================] - 1s 21ms/step - loss: 3.0504e-04\n",
      "Epoch 6/100\n",
      "45/45 [==============================] - 1s 21ms/step - loss: 3.0222e-04\n",
      "Epoch 7/100\n",
      "45/45 [==============================] - 1s 21ms/step - loss: 2.9948e-04\n",
      "Epoch 8/100\n",
      "45/45 [==============================] - 1s 21ms/step - loss: 3.0062e-04\n",
      "Epoch 9/100\n",
      "45/45 [==============================] - 1s 21ms/step - loss: 2.9812e-04\n",
      "Epoch 10/100\n",
      "45/45 [==============================] - 1s 21ms/step - loss: 3.0141e-04\n",
      "Epoch 11/100\n",
      "45/45 [==============================] - 1s 21ms/step - loss: 2.9626e-04\n",
      "Epoch 12/100\n",
      "45/45 [==============================] - 1s 21ms/step - loss: 2.9577e-04\n",
      "Epoch 13/100\n",
      "45/45 [==============================] - 1s 21ms/step - loss: 2.9617e-04\n",
      "Epoch 14/100\n",
      "45/45 [==============================] - 1s 21ms/step - loss: 3.0290e-04\n",
      "Epoch 15/100\n",
      "45/45 [==============================] - 1s 21ms/step - loss: 2.9466e-04\n",
      "Epoch 16/100\n",
      "45/45 [==============================] - 1s 21ms/step - loss: 2.8889e-04\n",
      "Epoch 17/100\n",
      "45/45 [==============================] - 1s 21ms/step - loss: 2.8922e-04\n",
      "Epoch 18/100\n",
      "45/45 [==============================] - 1s 21ms/step - loss: 2.8900e-04\n",
      "Epoch 19/100\n",
      "45/45 [==============================] - 1s 21ms/step - loss: 2.8619e-04\n",
      "Epoch 20/100\n",
      "45/45 [==============================] - 1s 21ms/step - loss: 2.8935e-04\n",
      "Epoch 21/100\n",
      "45/45 [==============================] - 1s 21ms/step - loss: 2.8661e-04\n",
      "Epoch 22/100\n",
      "45/45 [==============================] - 1s 21ms/step - loss: 2.8536e-04\n",
      "Epoch 23/100\n",
      "45/45 [==============================] - 1s 21ms/step - loss: 2.8577e-04\n",
      "Epoch 24/100\n",
      "45/45 [==============================] - 1s 21ms/step - loss: 2.8319e-04\n",
      "Epoch 25/100\n",
      "45/45 [==============================] - 1s 21ms/step - loss: 2.8038e-04\n",
      "Epoch 26/100\n",
      "45/45 [==============================] - 1s 21ms/step - loss: 2.7919e-04\n",
      "Epoch 27/100\n",
      "45/45 [==============================] - 1s 21ms/step - loss: 2.7568e-04\n",
      "Epoch 28/100\n",
      "45/45 [==============================] - 1s 21ms/step - loss: 2.7448e-04\n",
      "Epoch 29/100\n",
      "45/45 [==============================] - 1s 21ms/step - loss: 2.7233e-04\n",
      "Epoch 30/100\n",
      "45/45 [==============================] - 1s 21ms/step - loss: 2.9885e-04\n",
      "Epoch 31/100\n",
      "45/45 [==============================] - 1s 21ms/step - loss: 2.7187e-04\n",
      "Epoch 32/100\n",
      "45/45 [==============================] - 1s 21ms/step - loss: 2.6620e-04\n",
      "Epoch 33/100\n",
      "45/45 [==============================] - 1s 21ms/step - loss: 2.6957e-04\n",
      "Epoch 34/100\n",
      "45/45 [==============================] - 1s 21ms/step - loss: 2.6798e-04\n",
      "Epoch 35/100\n",
      "45/45 [==============================] - 1s 21ms/step - loss: 2.5965e-04\n",
      "Epoch 36/100\n",
      "45/45 [==============================] - 1s 21ms/step - loss: 2.5958e-04\n",
      "Epoch 37/100\n",
      "45/45 [==============================] - 1s 21ms/step - loss: 2.5640e-04\n",
      "Epoch 38/100\n",
      "45/45 [==============================] - 1s 21ms/step - loss: 2.6135e-04\n",
      "Epoch 39/100\n",
      "45/45 [==============================] - 1s 21ms/step - loss: 2.5446e-04\n",
      "Epoch 40/100\n",
      "45/45 [==============================] - 1s 21ms/step - loss: 2.5841e-04\n",
      "Epoch 41/100\n",
      "45/45 [==============================] - 1s 21ms/step - loss: 2.7389e-04\n",
      "Epoch 42/100\n",
      "45/45 [==============================] - 1s 21ms/step - loss: 2.5210e-04\n",
      "Epoch 43/100\n",
      "45/45 [==============================] - 1s 21ms/step - loss: 2.6305e-04\n",
      "Epoch 44/100\n",
      "45/45 [==============================] - 1s 21ms/step - loss: 2.5727e-04\n",
      "Epoch 45/100\n",
      "45/45 [==============================] - 1s 21ms/step - loss: 2.6731e-04\n",
      "Epoch 46/100\n",
      "45/45 [==============================] - 1s 21ms/step - loss: 2.6077e-04\n",
      "Epoch 47/100\n",
      "45/45 [==============================] - 1s 21ms/step - loss: 2.5769e-04\n",
      "Epoch 48/100\n",
      "45/45 [==============================] - 1s 21ms/step - loss: 2.4966e-04\n",
      "Epoch 49/100\n",
      "45/45 [==============================] - 1s 21ms/step - loss: 2.4581e-04\n",
      "Epoch 50/100\n",
      "45/45 [==============================] - 1s 21ms/step - loss: 2.5192e-04\n",
      "Epoch 51/100\n",
      "45/45 [==============================] - 1s 21ms/step - loss: 2.4573e-04\n",
      "Epoch 52/100\n",
      "45/45 [==============================] - 1s 21ms/step - loss: 2.5826e-04\n",
      "Epoch 53/100\n",
      "45/45 [==============================] - 1s 21ms/step - loss: 2.6181e-04\n",
      "Epoch 54/100\n",
      "45/45 [==============================] - 1s 21ms/step - loss: 2.4910e-04\n",
      "Epoch 55/100\n",
      "45/45 [==============================] - 1s 21ms/step - loss: 2.6390e-04\n",
      "Epoch 56/100\n",
      "45/45 [==============================] - 1s 21ms/step - loss: 2.4209e-04\n",
      "Epoch 57/100\n",
      "45/45 [==============================] - 1s 21ms/step - loss: 2.3756e-04\n",
      "Epoch 58/100\n",
      "45/45 [==============================] - 1s 21ms/step - loss: 2.5230e-04\n",
      "Epoch 59/100\n",
      "45/45 [==============================] - 1s 21ms/step - loss: 2.6217e-04\n",
      "Epoch 60/100\n",
      "45/45 [==============================] - 1s 21ms/step - loss: 2.4867e-04\n",
      "Epoch 61/100\n",
      "45/45 [==============================] - 1s 21ms/step - loss: 2.4313e-04\n",
      "Epoch 62/100\n",
      "45/45 [==============================] - 1s 21ms/step - loss: 2.5007e-04\n",
      "Epoch 63/100\n",
      "45/45 [==============================] - 1s 21ms/step - loss: 2.3905e-04\n",
      "Epoch 64/100\n",
      "45/45 [==============================] - 1s 21ms/step - loss: 2.5108e-04\n",
      "Epoch 65/100\n",
      "45/45 [==============================] - 1s 21ms/step - loss: 2.4197e-04\n",
      "Epoch 66/100\n",
      "45/45 [==============================] - 1s 21ms/step - loss: 2.3646e-04\n",
      "Epoch 67/100\n",
      "45/45 [==============================] - 1s 21ms/step - loss: 2.6503e-04\n",
      "Epoch 68/100\n",
      "45/45 [==============================] - 1s 21ms/step - loss: 2.5001e-04\n",
      "Epoch 69/100\n",
      "45/45 [==============================] - 1s 21ms/step - loss: 2.8184e-04\n",
      "Epoch 70/100\n",
      "45/45 [==============================] - 1s 21ms/step - loss: 2.7391e-04\n",
      "Epoch 71/100\n",
      "45/45 [==============================] - 1s 21ms/step - loss: 2.4790e-04\n",
      "Epoch 72/100\n",
      "45/45 [==============================] - 1s 21ms/step - loss: 2.4230e-04\n",
      "Epoch 73/100\n",
      "45/45 [==============================] - 1s 21ms/step - loss: 2.4454e-04\n",
      "Epoch 74/100\n",
      "45/45 [==============================] - 1s 21ms/step - loss: 2.4442e-04\n",
      "Epoch 75/100\n",
      "45/45 [==============================] - 1s 21ms/step - loss: 2.3312e-04\n",
      "Epoch 76/100\n",
      "45/45 [==============================] - 1s 21ms/step - loss: 2.5237e-04\n",
      "Epoch 77/100\n",
      "45/45 [==============================] - 1s 21ms/step - loss: 2.4423e-04\n",
      "Epoch 78/100\n",
      "45/45 [==============================] - 1s 21ms/step - loss: 2.3165e-04\n",
      "Epoch 79/100\n",
      "45/45 [==============================] - 1s 21ms/step - loss: 2.7619e-04\n",
      "Epoch 80/100\n",
      "45/45 [==============================] - 1s 21ms/step - loss: 2.5199e-04\n",
      "Epoch 81/100\n",
      "45/45 [==============================] - 1s 21ms/step - loss: 2.3909e-04\n",
      "Epoch 82/100\n",
      "45/45 [==============================] - 1s 21ms/step - loss: 2.3423e-04\n",
      "Epoch 83/100\n",
      "45/45 [==============================] - 1s 21ms/step - loss: 2.4812e-04\n",
      "Epoch 84/100\n",
      "45/45 [==============================] - 1s 21ms/step - loss: 2.4488e-04\n",
      "Epoch 85/100\n",
      "45/45 [==============================] - 1s 21ms/step - loss: 2.4686e-04\n",
      "Epoch 86/100\n",
      "45/45 [==============================] - 1s 21ms/step - loss: 2.3464e-04\n",
      "Epoch 87/100\n",
      "45/45 [==============================] - 1s 21ms/step - loss: 2.4587e-04\n",
      "Epoch 88/100\n",
      "45/45 [==============================] - 1s 21ms/step - loss: 2.4471e-04\n",
      "Epoch 89/100\n",
      "45/45 [==============================] - 1s 21ms/step - loss: 2.3218e-04\n",
      "Epoch 90/100\n",
      "45/45 [==============================] - 1s 21ms/step - loss: 2.3525e-04\n",
      "Epoch 91/100\n",
      "45/45 [==============================] - 1s 21ms/step - loss: 2.4289e-04\n",
      "Epoch 92/100\n",
      "45/45 [==============================] - 1s 21ms/step - loss: 2.6314e-04\n",
      "Epoch 93/100\n",
      "45/45 [==============================] - 1s 21ms/step - loss: 2.5034e-04\n",
      "Epoch 94/100\n",
      "45/45 [==============================] - 1s 21ms/step - loss: 2.5851e-04\n",
      "Epoch 95/100\n",
      "45/45 [==============================] - 1s 21ms/step - loss: 2.5500e-04\n",
      "Epoch 96/100\n"
     ]
    },
    {
     "name": "stdout",
     "output_type": "stream",
     "text": [
      "45/45 [==============================] - 1s 21ms/step - loss: 2.5319e-04\n",
      "Epoch 97/100\n",
      "45/45 [==============================] - 1s 21ms/step - loss: 2.4723e-04\n",
      "Epoch 98/100\n",
      "45/45 [==============================] - 1s 21ms/step - loss: 2.3476e-04\n",
      "Epoch 99/100\n",
      "45/45 [==============================] - 1s 21ms/step - loss: 2.3180e-04\n",
      "Epoch 100/100\n",
      "45/45 [==============================] - 1s 21ms/step - loss: 2.3697e-04\n"
     ]
    },
    {
     "data": {
      "text/plain": [
       "<tensorflow.python.keras.callbacks.History at 0x7f1ce023b390>"
      ]
     },
     "execution_count": 5,
     "metadata": {},
     "output_type": "execute_result"
    }
   ],
   "source": [
    "# inputs\n",
    "inputs = tf.keras.layers.Input(shape=(10,1))\n",
    "x = tf.keras.layers.LSTM(units=16, return_sequences=True)(inputs)\n",
    "x = tf.keras.layers.LSTM(units=1, return_sequences=False)(x)\n",
    "#x = tf.keras.layers.Dense(1)(x)\n",
    "\n",
    "# build\n",
    "model = tf.keras.models.Model(inputs=inputs, outputs=x)\n",
    "\n",
    "\n",
    "def keras_train(model, X, y, batch_size, epochs):\n",
    "\n",
    "    # TODO: split spatiotemporal or temporal model modes\n",
    "\n",
    "    N_sample, Nt, Nlat, Nlon, Nf = X.shape\n",
    "    X = X.reshape(-1, Nt*Nf)\n",
    "    y = y.reshape(-1, 1)\n",
    "\n",
    "    # remove nan grids\n",
    "    idx_y = np.unique(np.where(~np.isnan(y))[0])\n",
    "    X = X[idx_y, :]\n",
    "    y = y[idx_y, :]\n",
    "\n",
    "    idx_nan_x = np.unique(np.where(np.isnan(X))[0])\n",
    "    X = np.delete(X, idx_nan_x, axis=0)\n",
    "    y = np.delete(y, idx_nan_x, axis=0)\n",
    "\n",
    "    X, y = X.reshape(-1, Nt, Nf), y.reshape(-1, 1)\n",
    "\n",
    "    model.compile(loss='mse', optimizer='adam')\n",
    "    model.fit(X, y, batch_size=batch_size, epochs=epochs, validation_split=0.2)\n",
    "    #model.save(save_folder)\n",
    "\n",
    "    return model\n",
    "\n",
    "model.compile(loss='mse', optimizer='adam')\n",
    "model.fit(x_train[:,:,0,0,-1][:,:,np.newaxis], y_train[:,0,0,0,:], batch_size=16, epochs=100)\n",
    "\n",
    "#model = keras_train(model, x_train[:,:,0,0,-1][:,:,np.newaxis], y_train[:,0,0,0,:], batch_size=16, epochs=100)"
   ]
  },
  {
   "cell_type": "code",
   "execution_count": 8,
   "metadata": {},
   "outputs": [
    {
     "name": "stdout",
     "output_type": "stream",
     "text": [
      "0.039478831717477236\n",
      "0.017160191069234054\n",
      "[[1.         0.41652528]\n",
      " [0.41652528 1.        ]]\n",
      "0.039478831717477236\n",
      "0.017160191069234054\n",
      "[[1.         0.41652528]\n",
      " [0.41652528 1.        ]]\n",
      "0.039478831717477236\n",
      "0.017160191069234054\n",
      "[[1.         0.41652528]\n",
      " [0.41652528 1.        ]]\n",
      "0.039478831717477236\n",
      "0.017160191069234054\n",
      "[[1.         0.41652528]\n",
      " [0.41652528 1.        ]]\n",
      "0.039478831717477236\n",
      "0.017160191069234054\n",
      "[[1.         0.41652528]\n",
      " [0.41652528 1.        ]]\n",
      "0.039478831717477236\n",
      "0.017160191069234054\n",
      "[[1.         0.41652528]\n",
      " [0.41652528 1.        ]]\n"
     ]
    }
   ],
   "source": [
    "from sklearn.metrics import r2_score, mean_squared_error\n",
    "\n",
    "for i in range(x_test.shape[2]):\n",
    "    for j in range(x_test.shape[3]):\n",
    "\n",
    "        y_pred = model.predict(x_test[:, :, 0, 0, -1])\n",
    "        print(r2_score(np.squeeze(y_test[:, :, 0, 0, :]), y_pred))\n",
    "        print(np.sqrt(mean_squared_error(y_test[:,0,0,0], y_pred)))\n",
    "        print(np.corrcoef(y_test[:,0,0,0, 0], y_pred[:,0]))"
   ]
  },
  {
   "cell_type": "code",
   "execution_count": 24,
   "metadata": {
    "collapsed": true
   },
   "outputs": [
    {
     "name": "stdout",
     "output_type": "stream",
     "text": [
      "Epoch 1/100\n",
      "23/23 [==============================] - 0s 12ms/step - loss: 3.6581e-04\n",
      "Epoch 2/100\n",
      "23/23 [==============================] - 0s 13ms/step - loss: 3.5873e-04\n",
      "Epoch 3/100\n",
      "23/23 [==============================] - 0s 12ms/step - loss: 3.3420e-04\n",
      "Epoch 4/100\n",
      "23/23 [==============================] - 0s 12ms/step - loss: 3.3667e-04\n",
      "Epoch 5/100\n",
      "23/23 [==============================] - 0s 13ms/step - loss: 3.4811e-04\n",
      "Epoch 6/100\n",
      "23/23 [==============================] - 0s 13ms/step - loss: 3.5205e-04\n",
      "Epoch 7/100\n",
      "23/23 [==============================] - 0s 13ms/step - loss: 3.3739e-04\n",
      "Epoch 8/100\n",
      "23/23 [==============================] - 0s 13ms/step - loss: 3.3495e-04\n",
      "Epoch 9/100\n",
      "23/23 [==============================] - 0s 12ms/step - loss: 3.4759e-04\n",
      "Epoch 10/100\n",
      "23/23 [==============================] - 0s 12ms/step - loss: 3.6891e-04\n",
      "Epoch 11/100\n",
      "23/23 [==============================] - 0s 13ms/step - loss: 3.3840e-04\n",
      "Epoch 12/100\n",
      "23/23 [==============================] - 0s 12ms/step - loss: 3.2958e-04\n",
      "Epoch 13/100\n",
      "23/23 [==============================] - 0s 12ms/step - loss: 3.3064e-04\n",
      "Epoch 14/100\n",
      "23/23 [==============================] - 0s 13ms/step - loss: 3.2697e-04\n",
      "Epoch 15/100\n",
      "23/23 [==============================] - 0s 13ms/step - loss: 3.3856e-04\n",
      "Epoch 16/100\n",
      "23/23 [==============================] - 0s 13ms/step - loss: 3.3708e-04\n",
      "Epoch 17/100\n",
      "23/23 [==============================] - 0s 13ms/step - loss: 3.2971e-04\n",
      "Epoch 18/100\n",
      "23/23 [==============================] - 0s 13ms/step - loss: 3.2428e-04\n",
      "Epoch 19/100\n",
      "23/23 [==============================] - 0s 12ms/step - loss: 3.2432e-04\n",
      "Epoch 20/100\n",
      "23/23 [==============================] - 0s 12ms/step - loss: 3.4389e-04\n",
      "Epoch 21/100\n",
      "23/23 [==============================] - 0s 12ms/step - loss: 3.3725e-04\n",
      "Epoch 22/100\n",
      "23/23 [==============================] - 0s 13ms/step - loss: 3.2421e-04\n",
      "Epoch 23/100\n",
      "23/23 [==============================] - 0s 13ms/step - loss: 3.2890e-04\n",
      "Epoch 24/100\n",
      "23/23 [==============================] - 0s 13ms/step - loss: 3.2206e-04\n",
      "Epoch 25/100\n",
      "23/23 [==============================] - 0s 12ms/step - loss: 3.2892e-04\n",
      "Epoch 26/100\n",
      "23/23 [==============================] - 0s 12ms/step - loss: 3.2358e-04\n",
      "Epoch 27/100\n",
      "23/23 [==============================] - 0s 13ms/step - loss: 3.3335e-04\n",
      "Epoch 28/100\n",
      "23/23 [==============================] - 0s 12ms/step - loss: 3.3754e-04\n",
      "Epoch 29/100\n",
      "23/23 [==============================] - 0s 13ms/step - loss: 3.2581e-04\n",
      "Epoch 30/100\n",
      "23/23 [==============================] - 0s 13ms/step - loss: 3.4448e-04\n",
      "Epoch 31/100\n",
      "23/23 [==============================] - 0s 13ms/step - loss: 3.5072e-04\n",
      "Epoch 32/100\n",
      "23/23 [==============================] - 0s 13ms/step - loss: 3.1972e-04\n",
      "Epoch 33/100\n",
      "23/23 [==============================] - 0s 12ms/step - loss: 3.3651e-04\n",
      "Epoch 34/100\n",
      "23/23 [==============================] - 0s 12ms/step - loss: 3.3505e-04\n",
      "Epoch 35/100\n",
      "23/23 [==============================] - 0s 13ms/step - loss: 3.2379e-04\n",
      "Epoch 36/100\n",
      "23/23 [==============================] - 0s 12ms/step - loss: 3.2215e-04\n",
      "Epoch 37/100\n",
      "23/23 [==============================] - 0s 13ms/step - loss: 3.2214e-04\n",
      "Epoch 38/100\n",
      "23/23 [==============================] - 0s 12ms/step - loss: 3.4699e-04\n",
      "Epoch 39/100\n",
      "23/23 [==============================] - 0s 12ms/step - loss: 3.2360e-04\n",
      "Epoch 40/100\n",
      "23/23 [==============================] - 0s 12ms/step - loss: 3.2298e-04\n",
      "Epoch 41/100\n",
      "23/23 [==============================] - 0s 12ms/step - loss: 3.2307e-04\n",
      "Epoch 42/100\n",
      "23/23 [==============================] - 0s 12ms/step - loss: 3.2503e-04\n",
      "Epoch 43/100\n",
      "23/23 [==============================] - 0s 12ms/step - loss: 3.2008e-04\n",
      "Epoch 44/100\n",
      "23/23 [==============================] - 0s 12ms/step - loss: 3.1904e-04\n",
      "Epoch 45/100\n",
      "23/23 [==============================] - 0s 12ms/step - loss: 3.2803e-04\n",
      "Epoch 46/100\n",
      "23/23 [==============================] - 0s 12ms/step - loss: 3.2971e-04\n",
      "Epoch 47/100\n",
      "23/23 [==============================] - 0s 12ms/step - loss: 3.2180e-04\n",
      "Epoch 48/100\n",
      "23/23 [==============================] - 0s 12ms/step - loss: 3.1966e-04\n",
      "Epoch 49/100\n",
      "23/23 [==============================] - 0s 13ms/step - loss: 3.1540e-04\n",
      "Epoch 50/100\n",
      "23/23 [==============================] - 0s 13ms/step - loss: 3.1695e-04\n",
      "Epoch 51/100\n",
      "23/23 [==============================] - 0s 12ms/step - loss: 3.2198e-04\n",
      "Epoch 52/100\n",
      "23/23 [==============================] - 0s 13ms/step - loss: 3.4694e-04\n",
      "Epoch 53/100\n",
      "23/23 [==============================] - 0s 12ms/step - loss: 3.2424e-04\n",
      "Epoch 54/100\n",
      "23/23 [==============================] - 0s 12ms/step - loss: 3.3057e-04\n",
      "Epoch 55/100\n",
      "23/23 [==============================] - 0s 13ms/step - loss: 3.1721e-04\n",
      "Epoch 56/100\n",
      "23/23 [==============================] - 0s 12ms/step - loss: 3.3719e-04\n",
      "Epoch 57/100\n",
      "23/23 [==============================] - 0s 12ms/step - loss: 3.2043e-04\n",
      "Epoch 58/100\n",
      "23/23 [==============================] - 0s 12ms/step - loss: 3.1553e-04\n",
      "Epoch 59/100\n",
      "23/23 [==============================] - 0s 13ms/step - loss: 3.1673e-04\n",
      "Epoch 60/100\n",
      "23/23 [==============================] - 0s 13ms/step - loss: 3.1704e-04\n",
      "Epoch 61/100\n",
      "23/23 [==============================] - 0s 13ms/step - loss: 3.4550e-04\n",
      "Epoch 62/100\n",
      "23/23 [==============================] - 0s 13ms/step - loss: 3.2228e-04\n",
      "Epoch 63/100\n",
      "23/23 [==============================] - 0s 13ms/step - loss: 3.2790e-04\n",
      "Epoch 64/100\n",
      "23/23 [==============================] - 0s 13ms/step - loss: 3.1425e-04\n",
      "Epoch 65/100\n",
      "23/23 [==============================] - 0s 12ms/step - loss: 3.0914e-04\n",
      "Epoch 66/100\n",
      "23/23 [==============================] - 0s 13ms/step - loss: 3.0886e-04\n",
      "Epoch 67/100\n",
      "23/23 [==============================] - 0s 13ms/step - loss: 3.1211e-04\n",
      "Epoch 68/100\n",
      "23/23 [==============================] - 0s 13ms/step - loss: 3.1941e-04\n",
      "Epoch 69/100\n",
      "23/23 [==============================] - 0s 13ms/step - loss: 3.1958e-04\n",
      "Epoch 70/100\n",
      "23/23 [==============================] - 0s 13ms/step - loss: 3.1994e-04\n",
      "Epoch 71/100\n",
      "23/23 [==============================] - 0s 13ms/step - loss: 3.0783e-04\n",
      "Epoch 72/100\n",
      "23/23 [==============================] - 0s 12ms/step - loss: 3.1031e-04\n",
      "Epoch 73/100\n",
      "23/23 [==============================] - 0s 12ms/step - loss: 3.0836e-04\n",
      "Epoch 74/100\n",
      "23/23 [==============================] - 0s 12ms/step - loss: 3.2787e-04\n",
      "Epoch 75/100\n",
      "23/23 [==============================] - 0s 12ms/step - loss: 3.1280e-04\n",
      "Epoch 76/100\n",
      "23/23 [==============================] - 0s 13ms/step - loss: 3.1066e-04\n",
      "Epoch 77/100\n",
      "23/23 [==============================] - 0s 12ms/step - loss: 3.1729e-04\n",
      "Epoch 78/100\n",
      "23/23 [==============================] - 0s 12ms/step - loss: 3.2338e-04\n",
      "Epoch 79/100\n",
      "23/23 [==============================] - 0s 12ms/step - loss: 3.1921e-04\n",
      "Epoch 80/100\n",
      "23/23 [==============================] - 0s 12ms/step - loss: 3.0744e-04\n",
      "Epoch 81/100\n",
      "23/23 [==============================] - 0s 13ms/step - loss: 3.0416e-04\n",
      "Epoch 82/100\n",
      "23/23 [==============================] - 0s 12ms/step - loss: 3.0300e-04\n",
      "Epoch 83/100\n",
      "23/23 [==============================] - 0s 13ms/step - loss: 3.1800e-04\n",
      "Epoch 84/100\n",
      "23/23 [==============================] - 0s 13ms/step - loss: 3.2679e-04\n",
      "Epoch 85/100\n",
      "23/23 [==============================] - 0s 12ms/step - loss: 3.2365e-04\n",
      "Epoch 86/100\n",
      "23/23 [==============================] - 0s 12ms/step - loss: 3.0642e-04\n",
      "Epoch 87/100\n",
      "23/23 [==============================] - 0s 12ms/step - loss: 3.0619e-04\n",
      "Epoch 88/100\n",
      "23/23 [==============================] - 0s 13ms/step - loss: 3.1871e-04\n",
      "Epoch 89/100\n",
      "23/23 [==============================] - 0s 13ms/step - loss: 3.4247e-04\n",
      "Epoch 90/100\n",
      "23/23 [==============================] - 0s 13ms/step - loss: 3.1565e-04\n",
      "Epoch 91/100\n",
      "23/23 [==============================] - 0s 12ms/step - loss: 3.1779e-04\n",
      "Epoch 92/100\n",
      "23/23 [==============================] - 0s 13ms/step - loss: 3.1433e-04\n",
      "Epoch 93/100\n",
      "23/23 [==============================] - 0s 12ms/step - loss: 3.1395e-04\n",
      "Epoch 94/100\n",
      "23/23 [==============================] - 0s 12ms/step - loss: 3.0473e-04\n",
      "Epoch 95/100\n",
      "23/23 [==============================] - 0s 13ms/step - loss: 3.0384e-04\n",
      "Epoch 96/100\n"
     ]
    },
    {
     "name": "stdout",
     "output_type": "stream",
     "text": [
      "23/23 [==============================] - 0s 12ms/step - loss: 3.0527e-04\n",
      "Epoch 97/100\n",
      "23/23 [==============================] - 0s 12ms/step - loss: 3.0386e-04\n",
      "Epoch 98/100\n",
      "23/23 [==============================] - 0s 13ms/step - loss: 3.1963e-04\n",
      "Epoch 99/100\n",
      "23/23 [==============================] - 0s 13ms/step - loss: 3.2308e-04\n",
      "Epoch 100/100\n",
      "23/23 [==============================] - 0s 12ms/step - loss: 3.0211e-04\n"
     ]
    },
    {
     "data": {
      "text/plain": [
       "<tensorflow.python.keras.callbacks.History at 0x7fabd0d67198>"
      ]
     },
     "execution_count": 24,
     "metadata": {},
     "output_type": "execute_result"
    }
   ],
   "source": [
    "model.fit(x_train[:, :, 0, 1, :], y_train[:,0,0,1,:], batch_size=32, epochs=100)"
   ]
  },
  {
   "cell_type": "code",
   "execution_count": 8,
   "metadata": {
    "collapsed": true
   },
   "outputs": [
    {
     "ename": "ValueError",
     "evalue": "in user code:\n\n    /root/anaconda3/lib/python3.7/site-packages/tensorflow/python/keras/engine/training.py:1569 predict_function  *\n        return step_function(self, iterator)\n    /root/anaconda3/lib/python3.7/site-packages/tensorflow/python/keras/engine/training.py:1559 step_function  **\n        outputs = model.distribute_strategy.run(run_step, args=(data,))\n    /root/anaconda3/lib/python3.7/site-packages/tensorflow/python/distribute/distribute_lib.py:1285 run\n        return self._extended.call_for_each_replica(fn, args=args, kwargs=kwargs)\n    /root/anaconda3/lib/python3.7/site-packages/tensorflow/python/distribute/distribute_lib.py:2833 call_for_each_replica\n        return self._call_for_each_replica(fn, args, kwargs)\n    /root/anaconda3/lib/python3.7/site-packages/tensorflow/python/distribute/distribute_lib.py:3608 _call_for_each_replica\n        return fn(*args, **kwargs)\n    /root/anaconda3/lib/python3.7/site-packages/tensorflow/python/keras/engine/training.py:1552 run_step  **\n        outputs = model.predict_step(data)\n    /root/anaconda3/lib/python3.7/site-packages/tensorflow/python/keras/engine/training.py:1525 predict_step\n        return self(x, training=False)\n    /root/anaconda3/lib/python3.7/site-packages/tensorflow/python/keras/engine/base_layer.py:1013 __call__\n        input_spec.assert_input_compatibility(self.input_spec, inputs, self.name)\n    /root/anaconda3/lib/python3.7/site-packages/tensorflow/python/keras/engine/input_spec.py:270 assert_input_compatibility\n        ', found shape=' + display_shape(x.shape))\n\n    ValueError: Input 0 is incompatible with layer model_1: expected shape=(None, 10, 1), found shape=(None, 5, 1)\n",
     "output_type": "error",
     "traceback": [
      "\u001b[0;31m---------------------------------------------------------------------------\u001b[0m",
      "\u001b[0;31mValueError\u001b[0m                                Traceback (most recent call last)",
      "\u001b[0;32m<ipython-input-8-1802c2a6e1a6>\u001b[0m in \u001b[0;36m<module>\u001b[0;34m\u001b[0m\n\u001b[0;32m----> 1\u001b[0;31m \u001b[0my_predict\u001b[0m \u001b[0;34m=\u001b[0m \u001b[0mmodel\u001b[0m\u001b[0;34m.\u001b[0m\u001b[0mpredict\u001b[0m\u001b[0;34m(\u001b[0m\u001b[0mx_test\u001b[0m\u001b[0;34m[\u001b[0m\u001b[0;34m:\u001b[0m\u001b[0;34m,\u001b[0m \u001b[0;34m:\u001b[0m\u001b[0;34m,\u001b[0m \u001b[0;36m0\u001b[0m\u001b[0;34m,\u001b[0m \u001b[0;36m0\u001b[0m\u001b[0;34m,\u001b[0m \u001b[0;34m-\u001b[0m\u001b[0;36m1\u001b[0m\u001b[0;34m]\u001b[0m\u001b[0;34m[\u001b[0m\u001b[0;34m:\u001b[0m\u001b[0;34m,\u001b[0m\u001b[0;34m:\u001b[0m\u001b[0;34m,\u001b[0m\u001b[0mnp\u001b[0m\u001b[0;34m.\u001b[0m\u001b[0mnewaxis\u001b[0m\u001b[0;34m]\u001b[0m\u001b[0;34m)\u001b[0m\u001b[0;34m\u001b[0m\u001b[0m\n\u001b[0m",
      "\u001b[0;32m~/anaconda3/lib/python3.7/site-packages/tensorflow/python/keras/engine/training.py\u001b[0m in \u001b[0;36mpredict\u001b[0;34m(self, x, batch_size, verbose, steps, callbacks, max_queue_size, workers, use_multiprocessing)\u001b[0m\n\u001b[1;32m   1725\u001b[0m           \u001b[0;32mfor\u001b[0m \u001b[0mstep\u001b[0m \u001b[0;32min\u001b[0m \u001b[0mdata_handler\u001b[0m\u001b[0;34m.\u001b[0m\u001b[0msteps\u001b[0m\u001b[0;34m(\u001b[0m\u001b[0;34m)\u001b[0m\u001b[0;34m:\u001b[0m\u001b[0;34m\u001b[0m\u001b[0m\n\u001b[1;32m   1726\u001b[0m             \u001b[0mcallbacks\u001b[0m\u001b[0;34m.\u001b[0m\u001b[0mon_predict_batch_begin\u001b[0m\u001b[0;34m(\u001b[0m\u001b[0mstep\u001b[0m\u001b[0;34m)\u001b[0m\u001b[0;34m\u001b[0m\u001b[0m\n\u001b[0;32m-> 1727\u001b[0;31m             \u001b[0mtmp_batch_outputs\u001b[0m \u001b[0;34m=\u001b[0m \u001b[0mself\u001b[0m\u001b[0;34m.\u001b[0m\u001b[0mpredict_function\u001b[0m\u001b[0;34m(\u001b[0m\u001b[0miterator\u001b[0m\u001b[0;34m)\u001b[0m\u001b[0;34m\u001b[0m\u001b[0m\n\u001b[0m\u001b[1;32m   1728\u001b[0m             \u001b[0;32mif\u001b[0m \u001b[0mdata_handler\u001b[0m\u001b[0;34m.\u001b[0m\u001b[0mshould_sync\u001b[0m\u001b[0;34m:\u001b[0m\u001b[0;34m\u001b[0m\u001b[0m\n\u001b[1;32m   1729\u001b[0m               \u001b[0mcontext\u001b[0m\u001b[0;34m.\u001b[0m\u001b[0masync_wait\u001b[0m\u001b[0;34m(\u001b[0m\u001b[0;34m)\u001b[0m\u001b[0;34m\u001b[0m\u001b[0m\n",
      "\u001b[0;32m~/anaconda3/lib/python3.7/site-packages/tensorflow/python/eager/def_function.py\u001b[0m in \u001b[0;36m__call__\u001b[0;34m(self, *args, **kwds)\u001b[0m\n\u001b[1;32m    887\u001b[0m \u001b[0;34m\u001b[0m\u001b[0m\n\u001b[1;32m    888\u001b[0m       \u001b[0;32mwith\u001b[0m \u001b[0mOptionalXlaContext\u001b[0m\u001b[0;34m(\u001b[0m\u001b[0mself\u001b[0m\u001b[0;34m.\u001b[0m\u001b[0m_jit_compile\u001b[0m\u001b[0;34m)\u001b[0m\u001b[0;34m:\u001b[0m\u001b[0;34m\u001b[0m\u001b[0m\n\u001b[0;32m--> 889\u001b[0;31m         \u001b[0mresult\u001b[0m \u001b[0;34m=\u001b[0m \u001b[0mself\u001b[0m\u001b[0;34m.\u001b[0m\u001b[0m_call\u001b[0m\u001b[0;34m(\u001b[0m\u001b[0;34m*\u001b[0m\u001b[0margs\u001b[0m\u001b[0;34m,\u001b[0m \u001b[0;34m**\u001b[0m\u001b[0mkwds\u001b[0m\u001b[0;34m)\u001b[0m\u001b[0;34m\u001b[0m\u001b[0m\n\u001b[0m\u001b[1;32m    890\u001b[0m \u001b[0;34m\u001b[0m\u001b[0m\n\u001b[1;32m    891\u001b[0m       \u001b[0mnew_tracing_count\u001b[0m \u001b[0;34m=\u001b[0m \u001b[0mself\u001b[0m\u001b[0;34m.\u001b[0m\u001b[0mexperimental_get_tracing_count\u001b[0m\u001b[0;34m(\u001b[0m\u001b[0;34m)\u001b[0m\u001b[0;34m\u001b[0m\u001b[0m\n",
      "\u001b[0;32m~/anaconda3/lib/python3.7/site-packages/tensorflow/python/eager/def_function.py\u001b[0m in \u001b[0;36m_call\u001b[0;34m(self, *args, **kwds)\u001b[0m\n\u001b[1;32m    922\u001b[0m       \u001b[0;31m# In this case we have not created variables on the first call. So we can\u001b[0m\u001b[0;34m\u001b[0m\u001b[0;34m\u001b[0m\u001b[0m\n\u001b[1;32m    923\u001b[0m       \u001b[0;31m# run the first trace but we should fail if variables are created.\u001b[0m\u001b[0;34m\u001b[0m\u001b[0;34m\u001b[0m\u001b[0m\n\u001b[0;32m--> 924\u001b[0;31m       \u001b[0mresults\u001b[0m \u001b[0;34m=\u001b[0m \u001b[0mself\u001b[0m\u001b[0;34m.\u001b[0m\u001b[0m_stateful_fn\u001b[0m\u001b[0;34m(\u001b[0m\u001b[0;34m*\u001b[0m\u001b[0margs\u001b[0m\u001b[0;34m,\u001b[0m \u001b[0;34m**\u001b[0m\u001b[0mkwds\u001b[0m\u001b[0;34m)\u001b[0m\u001b[0;34m\u001b[0m\u001b[0m\n\u001b[0m\u001b[1;32m    925\u001b[0m       \u001b[0;32mif\u001b[0m \u001b[0mself\u001b[0m\u001b[0;34m.\u001b[0m\u001b[0m_created_variables\u001b[0m\u001b[0;34m:\u001b[0m\u001b[0;34m\u001b[0m\u001b[0m\n\u001b[1;32m    926\u001b[0m         raise ValueError(\"Creating variables on a non-first call to a function\"\n",
      "\u001b[0;32m~/anaconda3/lib/python3.7/site-packages/tensorflow/python/eager/function.py\u001b[0m in \u001b[0;36m__call__\u001b[0;34m(self, *args, **kwargs)\u001b[0m\n\u001b[1;32m   3020\u001b[0m     \u001b[0;32mwith\u001b[0m \u001b[0mself\u001b[0m\u001b[0;34m.\u001b[0m\u001b[0m_lock\u001b[0m\u001b[0;34m:\u001b[0m\u001b[0;34m\u001b[0m\u001b[0m\n\u001b[1;32m   3021\u001b[0m       (graph_function,\n\u001b[0;32m-> 3022\u001b[0;31m        filtered_flat_args) = self._maybe_define_function(args, kwargs)\n\u001b[0m\u001b[1;32m   3023\u001b[0m     return graph_function._call_flat(\n\u001b[1;32m   3024\u001b[0m         filtered_flat_args, captured_inputs=graph_function.captured_inputs)  # pylint: disable=protected-access\n",
      "\u001b[0;32m~/anaconda3/lib/python3.7/site-packages/tensorflow/python/eager/function.py\u001b[0m in \u001b[0;36m_maybe_define_function\u001b[0;34m(self, args, kwargs)\u001b[0m\n\u001b[1;32m   3439\u001b[0m               call_context_key in self._function_cache.missed):\n\u001b[1;32m   3440\u001b[0m             return self._define_function_with_shape_relaxation(\n\u001b[0;32m-> 3441\u001b[0;31m                 args, kwargs, flat_args, filtered_flat_args, cache_key_context)\n\u001b[0m\u001b[1;32m   3442\u001b[0m \u001b[0;34m\u001b[0m\u001b[0m\n\u001b[1;32m   3443\u001b[0m           \u001b[0mself\u001b[0m\u001b[0;34m.\u001b[0m\u001b[0m_function_cache\u001b[0m\u001b[0;34m.\u001b[0m\u001b[0mmissed\u001b[0m\u001b[0;34m.\u001b[0m\u001b[0madd\u001b[0m\u001b[0;34m(\u001b[0m\u001b[0mcall_context_key\u001b[0m\u001b[0;34m)\u001b[0m\u001b[0;34m\u001b[0m\u001b[0m\n",
      "\u001b[0;32m~/anaconda3/lib/python3.7/site-packages/tensorflow/python/eager/function.py\u001b[0m in \u001b[0;36m_define_function_with_shape_relaxation\u001b[0;34m(self, args, kwargs, flat_args, filtered_flat_args, cache_key_context)\u001b[0m\n\u001b[1;32m   3361\u001b[0m \u001b[0;34m\u001b[0m\u001b[0m\n\u001b[1;32m   3362\u001b[0m     graph_function = self._create_graph_function(\n\u001b[0;32m-> 3363\u001b[0;31m         args, kwargs, override_flat_arg_shapes=relaxed_arg_shapes)\n\u001b[0m\u001b[1;32m   3364\u001b[0m     \u001b[0mself\u001b[0m\u001b[0;34m.\u001b[0m\u001b[0m_function_cache\u001b[0m\u001b[0;34m.\u001b[0m\u001b[0marg_relaxed\u001b[0m\u001b[0;34m[\u001b[0m\u001b[0mrank_only_cache_key\u001b[0m\u001b[0;34m]\u001b[0m \u001b[0;34m=\u001b[0m \u001b[0mgraph_function\u001b[0m\u001b[0;34m\u001b[0m\u001b[0m\n\u001b[1;32m   3365\u001b[0m \u001b[0;34m\u001b[0m\u001b[0m\n",
      "\u001b[0;32m~/anaconda3/lib/python3.7/site-packages/tensorflow/python/eager/function.py\u001b[0m in \u001b[0;36m_create_graph_function\u001b[0;34m(self, args, kwargs, override_flat_arg_shapes)\u001b[0m\n\u001b[1;32m   3287\u001b[0m             \u001b[0marg_names\u001b[0m\u001b[0;34m=\u001b[0m\u001b[0marg_names\u001b[0m\u001b[0;34m,\u001b[0m\u001b[0;34m\u001b[0m\u001b[0m\n\u001b[1;32m   3288\u001b[0m             \u001b[0moverride_flat_arg_shapes\u001b[0m\u001b[0;34m=\u001b[0m\u001b[0moverride_flat_arg_shapes\u001b[0m\u001b[0;34m,\u001b[0m\u001b[0;34m\u001b[0m\u001b[0m\n\u001b[0;32m-> 3289\u001b[0;31m             capture_by_value=self._capture_by_value),\n\u001b[0m\u001b[1;32m   3290\u001b[0m         \u001b[0mself\u001b[0m\u001b[0;34m.\u001b[0m\u001b[0m_function_attributes\u001b[0m\u001b[0;34m,\u001b[0m\u001b[0;34m\u001b[0m\u001b[0m\n\u001b[1;32m   3291\u001b[0m         \u001b[0mfunction_spec\u001b[0m\u001b[0;34m=\u001b[0m\u001b[0mself\u001b[0m\u001b[0;34m.\u001b[0m\u001b[0mfunction_spec\u001b[0m\u001b[0;34m,\u001b[0m\u001b[0;34m\u001b[0m\u001b[0m\n",
      "\u001b[0;32m~/anaconda3/lib/python3.7/site-packages/tensorflow/python/framework/func_graph.py\u001b[0m in \u001b[0;36mfunc_graph_from_py_func\u001b[0;34m(name, python_func, args, kwargs, signature, func_graph, autograph, autograph_options, add_control_dependencies, arg_names, op_return_value, collections, capture_by_value, override_flat_arg_shapes)\u001b[0m\n\u001b[1;32m    997\u001b[0m         \u001b[0m_\u001b[0m\u001b[0;34m,\u001b[0m \u001b[0moriginal_func\u001b[0m \u001b[0;34m=\u001b[0m \u001b[0mtf_decorator\u001b[0m\u001b[0;34m.\u001b[0m\u001b[0munwrap\u001b[0m\u001b[0;34m(\u001b[0m\u001b[0mpython_func\u001b[0m\u001b[0;34m)\u001b[0m\u001b[0;34m\u001b[0m\u001b[0m\n\u001b[1;32m    998\u001b[0m \u001b[0;34m\u001b[0m\u001b[0m\n\u001b[0;32m--> 999\u001b[0;31m       \u001b[0mfunc_outputs\u001b[0m \u001b[0;34m=\u001b[0m \u001b[0mpython_func\u001b[0m\u001b[0;34m(\u001b[0m\u001b[0;34m*\u001b[0m\u001b[0mfunc_args\u001b[0m\u001b[0;34m,\u001b[0m \u001b[0;34m**\u001b[0m\u001b[0mfunc_kwargs\u001b[0m\u001b[0;34m)\u001b[0m\u001b[0;34m\u001b[0m\u001b[0m\n\u001b[0m\u001b[1;32m   1000\u001b[0m \u001b[0;34m\u001b[0m\u001b[0m\n\u001b[1;32m   1001\u001b[0m       \u001b[0;31m# invariant: `func_outputs` contains only Tensors, CompositeTensors,\u001b[0m\u001b[0;34m\u001b[0m\u001b[0;34m\u001b[0m\u001b[0m\n",
      "\u001b[0;32m~/anaconda3/lib/python3.7/site-packages/tensorflow/python/eager/def_function.py\u001b[0m in \u001b[0;36mwrapped_fn\u001b[0;34m(*args, **kwds)\u001b[0m\n\u001b[1;32m    670\u001b[0m         \u001b[0;31m# the function a weak reference to itself to avoid a reference cycle.\u001b[0m\u001b[0;34m\u001b[0m\u001b[0;34m\u001b[0m\u001b[0m\n\u001b[1;32m    671\u001b[0m         \u001b[0;32mwith\u001b[0m \u001b[0mOptionalXlaContext\u001b[0m\u001b[0;34m(\u001b[0m\u001b[0mcompile_with_xla\u001b[0m\u001b[0;34m)\u001b[0m\u001b[0;34m:\u001b[0m\u001b[0;34m\u001b[0m\u001b[0m\n\u001b[0;32m--> 672\u001b[0;31m           \u001b[0mout\u001b[0m \u001b[0;34m=\u001b[0m \u001b[0mweak_wrapped_fn\u001b[0m\u001b[0;34m(\u001b[0m\u001b[0;34m)\u001b[0m\u001b[0;34m.\u001b[0m\u001b[0m__wrapped__\u001b[0m\u001b[0;34m(\u001b[0m\u001b[0;34m*\u001b[0m\u001b[0margs\u001b[0m\u001b[0;34m,\u001b[0m \u001b[0;34m**\u001b[0m\u001b[0mkwds\u001b[0m\u001b[0;34m)\u001b[0m\u001b[0;34m\u001b[0m\u001b[0m\n\u001b[0m\u001b[1;32m    673\u001b[0m         \u001b[0;32mreturn\u001b[0m \u001b[0mout\u001b[0m\u001b[0;34m\u001b[0m\u001b[0m\n\u001b[1;32m    674\u001b[0m \u001b[0;34m\u001b[0m\u001b[0m\n",
      "\u001b[0;32m~/anaconda3/lib/python3.7/site-packages/tensorflow/python/framework/func_graph.py\u001b[0m in \u001b[0;36mwrapper\u001b[0;34m(*args, **kwargs)\u001b[0m\n\u001b[1;32m    984\u001b[0m           \u001b[0;32mexcept\u001b[0m \u001b[0mException\u001b[0m \u001b[0;32mas\u001b[0m \u001b[0me\u001b[0m\u001b[0;34m:\u001b[0m  \u001b[0;31m# pylint:disable=broad-except\u001b[0m\u001b[0;34m\u001b[0m\u001b[0m\n\u001b[1;32m    985\u001b[0m             \u001b[0;32mif\u001b[0m \u001b[0mhasattr\u001b[0m\u001b[0;34m(\u001b[0m\u001b[0me\u001b[0m\u001b[0;34m,\u001b[0m \u001b[0;34m\"ag_error_metadata\"\u001b[0m\u001b[0;34m)\u001b[0m\u001b[0;34m:\u001b[0m\u001b[0;34m\u001b[0m\u001b[0m\n\u001b[0;32m--> 986\u001b[0;31m               \u001b[0;32mraise\u001b[0m \u001b[0me\u001b[0m\u001b[0;34m.\u001b[0m\u001b[0mag_error_metadata\u001b[0m\u001b[0;34m.\u001b[0m\u001b[0mto_exception\u001b[0m\u001b[0;34m(\u001b[0m\u001b[0me\u001b[0m\u001b[0;34m)\u001b[0m\u001b[0;34m\u001b[0m\u001b[0m\n\u001b[0m\u001b[1;32m    987\u001b[0m             \u001b[0;32melse\u001b[0m\u001b[0;34m:\u001b[0m\u001b[0;34m\u001b[0m\u001b[0m\n\u001b[1;32m    988\u001b[0m               \u001b[0;32mraise\u001b[0m\u001b[0;34m\u001b[0m\u001b[0m\n",
      "\u001b[0;31mValueError\u001b[0m: in user code:\n\n    /root/anaconda3/lib/python3.7/site-packages/tensorflow/python/keras/engine/training.py:1569 predict_function  *\n        return step_function(self, iterator)\n    /root/anaconda3/lib/python3.7/site-packages/tensorflow/python/keras/engine/training.py:1559 step_function  **\n        outputs = model.distribute_strategy.run(run_step, args=(data,))\n    /root/anaconda3/lib/python3.7/site-packages/tensorflow/python/distribute/distribute_lib.py:1285 run\n        return self._extended.call_for_each_replica(fn, args=args, kwargs=kwargs)\n    /root/anaconda3/lib/python3.7/site-packages/tensorflow/python/distribute/distribute_lib.py:2833 call_for_each_replica\n        return self._call_for_each_replica(fn, args, kwargs)\n    /root/anaconda3/lib/python3.7/site-packages/tensorflow/python/distribute/distribute_lib.py:3608 _call_for_each_replica\n        return fn(*args, **kwargs)\n    /root/anaconda3/lib/python3.7/site-packages/tensorflow/python/keras/engine/training.py:1552 run_step  **\n        outputs = model.predict_step(data)\n    /root/anaconda3/lib/python3.7/site-packages/tensorflow/python/keras/engine/training.py:1525 predict_step\n        return self(x, training=False)\n    /root/anaconda3/lib/python3.7/site-packages/tensorflow/python/keras/engine/base_layer.py:1013 __call__\n        input_spec.assert_input_compatibility(self.input_spec, inputs, self.name)\n    /root/anaconda3/lib/python3.7/site-packages/tensorflow/python/keras/engine/input_spec.py:270 assert_input_compatibility\n        ', found shape=' + display_shape(x.shape))\n\n    ValueError: Input 0 is incompatible with layer model_1: expected shape=(None, 10, 1), found shape=(None, 5, 1)\n"
     ]
    }
   ],
   "source": [
    "y_predict = model.predict(x_test[:, :, 0, 0, -1][:,:,np.newaxis])"
   ]
  },
  {
   "cell_type": "code",
   "execution_count": 26,
   "metadata": {},
   "outputs": [
    {
     "data": {
      "text/plain": [
       "(175, 1)"
      ]
     },
     "execution_count": 26,
     "metadata": {},
     "output_type": "execute_result"
    }
   ],
   "source": [
    "y_predict.shape"
   ]
  },
  {
   "cell_type": "code",
   "execution_count": 27,
   "metadata": {},
   "outputs": [
    {
     "data": {
      "text/plain": [
       "(175, 1)"
      ]
     },
     "execution_count": 27,
     "metadata": {},
     "output_type": "execute_result"
    }
   ],
   "source": [
    "y_test[:,0,0,0].shape"
   ]
  },
  {
   "cell_type": "code",
   "execution_count": 34,
   "metadata": {
    "collapsed": true
   },
   "outputs": [
    {
     "ename": "ValueError",
     "evalue": "Found input variables with inconsistent numbers of samples: [172, 175]",
     "output_type": "error",
     "traceback": [
      "\u001b[0;31m---------------------------------------------------------------------------\u001b[0m",
      "\u001b[0;31mValueError\u001b[0m                                Traceback (most recent call last)",
      "\u001b[0;32m<ipython-input-34-5e56958df425>\u001b[0m in \u001b[0;36m<module>\u001b[0;34m\u001b[0m\n\u001b[1;32m      5\u001b[0m \u001b[0;32mfrom\u001b[0m \u001b[0msklearn\u001b[0m\u001b[0;34m.\u001b[0m\u001b[0mmetrics\u001b[0m \u001b[0;32mimport\u001b[0m \u001b[0mr2_score\u001b[0m\u001b[0;34m,\u001b[0m \u001b[0mmean_squared_error\u001b[0m\u001b[0;34m\u001b[0m\u001b[0m\n\u001b[1;32m      6\u001b[0m \u001b[0;34m\u001b[0m\u001b[0m\n\u001b[0;32m----> 7\u001b[0;31m \u001b[0mprint\u001b[0m\u001b[0;34m(\u001b[0m\u001b[0mr2_score\u001b[0m\u001b[0;34m(\u001b[0m\u001b[0my_test\u001b[0m\u001b[0;34m[\u001b[0m\u001b[0;36m3\u001b[0m\u001b[0;34m:\u001b[0m\u001b[0;34m,\u001b[0m\u001b[0;36m0\u001b[0m\u001b[0;34m,\u001b[0m\u001b[0;36m0\u001b[0m\u001b[0;34m,\u001b[0m\u001b[0;36m1\u001b[0m\u001b[0;34m]\u001b[0m\u001b[0;34m,\u001b[0m \u001b[0my_predict\u001b[0m\u001b[0;34m,\u001b[0m\u001b[0;34m)\u001b[0m\u001b[0;34m)\u001b[0m\u001b[0;34m\u001b[0m\u001b[0m\n\u001b[0m\u001b[1;32m      8\u001b[0m \u001b[0mprint\u001b[0m\u001b[0;34m(\u001b[0m\u001b[0mnp\u001b[0m\u001b[0;34m.\u001b[0m\u001b[0msqrt\u001b[0m\u001b[0;34m(\u001b[0m\u001b[0mmean_squared_error\u001b[0m\u001b[0;34m(\u001b[0m\u001b[0my_test\u001b[0m\u001b[0;34m[\u001b[0m\u001b[0;34m:\u001b[0m\u001b[0;34m,\u001b[0m\u001b[0;36m0\u001b[0m\u001b[0;34m,\u001b[0m\u001b[0;36m0\u001b[0m\u001b[0;34m,\u001b[0m\u001b[0;36m1\u001b[0m\u001b[0;34m]\u001b[0m\u001b[0;34m,\u001b[0m \u001b[0my_predict\u001b[0m\u001b[0;34m)\u001b[0m\u001b[0;34m)\u001b[0m\u001b[0;34m)\u001b[0m\u001b[0;34m\u001b[0m\u001b[0m\n\u001b[1;32m      9\u001b[0m \u001b[0;32mfrom\u001b[0m \u001b[0mscipy\u001b[0m\u001b[0;34m.\u001b[0m\u001b[0mstats\u001b[0m \u001b[0;32mimport\u001b[0m \u001b[0mpearsonr\u001b[0m\u001b[0;34m\u001b[0m\u001b[0m\n",
      "\u001b[0;32m~/anaconda3/lib/python3.7/site-packages/sklearn/utils/validation.py\u001b[0m in \u001b[0;36minner_f\u001b[0;34m(*args, **kwargs)\u001b[0m\n\u001b[1;32m     61\u001b[0m             \u001b[0mextra_args\u001b[0m \u001b[0;34m=\u001b[0m \u001b[0mlen\u001b[0m\u001b[0;34m(\u001b[0m\u001b[0margs\u001b[0m\u001b[0;34m)\u001b[0m \u001b[0;34m-\u001b[0m \u001b[0mlen\u001b[0m\u001b[0;34m(\u001b[0m\u001b[0mall_args\u001b[0m\u001b[0;34m)\u001b[0m\u001b[0;34m\u001b[0m\u001b[0m\n\u001b[1;32m     62\u001b[0m             \u001b[0;32mif\u001b[0m \u001b[0mextra_args\u001b[0m \u001b[0;34m<=\u001b[0m \u001b[0;36m0\u001b[0m\u001b[0;34m:\u001b[0m\u001b[0;34m\u001b[0m\u001b[0m\n\u001b[0;32m---> 63\u001b[0;31m                 \u001b[0;32mreturn\u001b[0m \u001b[0mf\u001b[0m\u001b[0;34m(\u001b[0m\u001b[0;34m*\u001b[0m\u001b[0margs\u001b[0m\u001b[0;34m,\u001b[0m \u001b[0;34m**\u001b[0m\u001b[0mkwargs\u001b[0m\u001b[0;34m)\u001b[0m\u001b[0;34m\u001b[0m\u001b[0m\n\u001b[0m\u001b[1;32m     64\u001b[0m \u001b[0;34m\u001b[0m\u001b[0m\n\u001b[1;32m     65\u001b[0m             \u001b[0;31m# extra_args > 0\u001b[0m\u001b[0;34m\u001b[0m\u001b[0;34m\u001b[0m\u001b[0m\n",
      "\u001b[0;32m~/anaconda3/lib/python3.7/site-packages/sklearn/metrics/_regression.py\u001b[0m in \u001b[0;36mr2_score\u001b[0;34m(y_true, y_pred, sample_weight, multioutput)\u001b[0m\n\u001b[1;32m    675\u001b[0m     \"\"\"\n\u001b[1;32m    676\u001b[0m     y_type, y_true, y_pred, multioutput = _check_reg_targets(\n\u001b[0;32m--> 677\u001b[0;31m         y_true, y_pred, multioutput)\n\u001b[0m\u001b[1;32m    678\u001b[0m     \u001b[0mcheck_consistent_length\u001b[0m\u001b[0;34m(\u001b[0m\u001b[0my_true\u001b[0m\u001b[0;34m,\u001b[0m \u001b[0my_pred\u001b[0m\u001b[0;34m,\u001b[0m \u001b[0msample_weight\u001b[0m\u001b[0;34m)\u001b[0m\u001b[0;34m\u001b[0m\u001b[0m\n\u001b[1;32m    679\u001b[0m \u001b[0;34m\u001b[0m\u001b[0m\n",
      "\u001b[0;32m~/anaconda3/lib/python3.7/site-packages/sklearn/metrics/_regression.py\u001b[0m in \u001b[0;36m_check_reg_targets\u001b[0;34m(y_true, y_pred, multioutput, dtype)\u001b[0m\n\u001b[1;32m     86\u001b[0m         \u001b[0mthe\u001b[0m \u001b[0mdtype\u001b[0m \u001b[0margument\u001b[0m \u001b[0mpassed\u001b[0m \u001b[0mto\u001b[0m \u001b[0mcheck_array\u001b[0m\u001b[0;34m.\u001b[0m\u001b[0;34m\u001b[0m\u001b[0m\n\u001b[1;32m     87\u001b[0m     \"\"\"\n\u001b[0;32m---> 88\u001b[0;31m     \u001b[0mcheck_consistent_length\u001b[0m\u001b[0;34m(\u001b[0m\u001b[0my_true\u001b[0m\u001b[0;34m,\u001b[0m \u001b[0my_pred\u001b[0m\u001b[0;34m)\u001b[0m\u001b[0;34m\u001b[0m\u001b[0m\n\u001b[0m\u001b[1;32m     89\u001b[0m     \u001b[0my_true\u001b[0m \u001b[0;34m=\u001b[0m \u001b[0mcheck_array\u001b[0m\u001b[0;34m(\u001b[0m\u001b[0my_true\u001b[0m\u001b[0;34m,\u001b[0m \u001b[0mensure_2d\u001b[0m\u001b[0;34m=\u001b[0m\u001b[0;32mFalse\u001b[0m\u001b[0;34m,\u001b[0m \u001b[0mdtype\u001b[0m\u001b[0;34m=\u001b[0m\u001b[0mdtype\u001b[0m\u001b[0;34m)\u001b[0m\u001b[0;34m\u001b[0m\u001b[0m\n\u001b[1;32m     90\u001b[0m     \u001b[0my_pred\u001b[0m \u001b[0;34m=\u001b[0m \u001b[0mcheck_array\u001b[0m\u001b[0;34m(\u001b[0m\u001b[0my_pred\u001b[0m\u001b[0;34m,\u001b[0m \u001b[0mensure_2d\u001b[0m\u001b[0;34m=\u001b[0m\u001b[0;32mFalse\u001b[0m\u001b[0;34m,\u001b[0m \u001b[0mdtype\u001b[0m\u001b[0;34m=\u001b[0m\u001b[0mdtype\u001b[0m\u001b[0;34m)\u001b[0m\u001b[0;34m\u001b[0m\u001b[0m\n",
      "\u001b[0;32m~/anaconda3/lib/python3.7/site-packages/sklearn/utils/validation.py\u001b[0m in \u001b[0;36mcheck_consistent_length\u001b[0;34m(*arrays)\u001b[0m\n\u001b[1;32m    318\u001b[0m     \u001b[0;32mif\u001b[0m \u001b[0mlen\u001b[0m\u001b[0;34m(\u001b[0m\u001b[0muniques\u001b[0m\u001b[0;34m)\u001b[0m \u001b[0;34m>\u001b[0m \u001b[0;36m1\u001b[0m\u001b[0;34m:\u001b[0m\u001b[0;34m\u001b[0m\u001b[0m\n\u001b[1;32m    319\u001b[0m         raise ValueError(\"Found input variables with inconsistent numbers of\"\n\u001b[0;32m--> 320\u001b[0;31m                          \" samples: %r\" % [int(l) for l in lengths])\n\u001b[0m\u001b[1;32m    321\u001b[0m \u001b[0;34m\u001b[0m\u001b[0m\n\u001b[1;32m    322\u001b[0m \u001b[0;34m\u001b[0m\u001b[0m\n",
      "\u001b[0;31mValueError\u001b[0m: Found input variables with inconsistent numbers of samples: [172, 175]"
     ]
    },
    {
     "data": {
      "image/png": "[encoded data removed]",
      "text/plain": [
       "<Figure size 432x288 with 1 Axes>"
      ]
     },
     "metadata": {
      "needs_background": "light"
     },
     "output_type": "display_data"
    }
   ],
   "source": [
    "plt.plot(y_predict[3:])\n",
    "plt.plot(y_test[:,0,0,1])\n",
    "#plt.plot(x_test[:,:, 0,0,-1])\n",
    "\n",
    "from sklearn.metrics import r2_score, mean_squared_error\n",
    "\n",
    "print(r2_score(y_test[3:,0,0,1], y_predict,))\n",
    "print(np.sqrt(mean_squared_error(y_test[:,0,0,1], y_predict)))\n",
    "from scipy.stats import pearsonr\n",
    "\n",
    "print(np.corrcoef(y_test[:,0,0,1, 0], y_predict[:,0]))"
   ]
  },
  {
   "cell_type": "code",
   "execution_count": 11,
   "metadata": {},
   "outputs": [],
   "source": [
    "y = np.load('observed soil moisture.npy')"
   ]
  },
  {
   "cell_type": "code",
   "execution_count": 12,
   "metadata": {},
   "outputs": [],
   "source": [
    "y1 = np.load('predicted soil moisture by LSTM model.npy')"
   ]
  },
  {
   "cell_type": "code",
   "execution_count": 13,
   "metadata": {},
   "outputs": [
    {
     "data": {
      "text/plain": [
       "(175, 3, 2)"
      ]
     },
     "execution_count": 13,
     "metadata": {},
     "output_type": "execute_result"
    }
   ],
   "source": [
    "y.shape"
   ]
  },
  {
   "cell_type": "code",
   "execution_count": 14,
   "metadata": {},
   "outputs": [
    {
     "data": {
      "text/plain": [
       "(175, 3, 2)"
      ]
     },
     "execution_count": 14,
     "metadata": {},
     "output_type": "execute_result"
    }
   ],
   "source": [
    "y1.shape"
   ]
  },
  {
   "cell_type": "code",
   "execution_count": 43,
   "metadata": {},
   "outputs": [
    {
     "name": "stdout",
     "output_type": "stream",
     "text": [
      "-0.010603326133844737\n",
      "0.09211046979289239\n",
      "0.002716131947321121\n",
      "-1.1050319861910909\n",
      "-0.05533337387960224\n",
      "0.0026634946084436173\n"
     ]
    }
   ],
   "source": [
    "for i in range(3):\n",
    "    for j in range(2):\n",
    "\n",
    "        print(r2_score(y[:, i, j], y1[:,i,j]))\n",
    "        #print(np.sqrt(mean_squared_error(y_test[:,0,i,j], y_pred)))\n",
    "        #print(np.corrcoef(y_test[:,0,0,0, 0], y_pred[:,0]))"
   ]
  },
  {
   "cell_type": "code",
   "execution_count": 20,
   "metadata": {},
   "outputs": [
    {
     "data": {
      "text/plain": [
       "<matplotlib.legend.Legend at 0x7f1c733d2c88>"
      ]
     },
     "execution_count": 20,
     "metadata": {},
     "output_type": "execute_result"
    },
    {
     "data": {
      "image/png": "[encoded data removed]",
      "text/plain": [
       "<Figure size 432x288 with 1 Axes>"
      ]
     },
     "metadata": {
      "needs_background": "light"
     },
     "output_type": "display_data"
    }
   ],
   "source": [
    "plt.plot(y[:, 0, 1])\n",
    "plt.plot(y1[:,0,1])\n",
    "plt.legend(['true','pred'])"
   ]
  },
  {
   "cell_type": "code",
   "execution_count": 9,
   "metadata": {},
   "outputs": [],
   "source": [
    "def r2(y_true, y_pred):\n",
    "    \n",
    "    # y_true: (t,)\n",
    "    \n",
    "    return 1-np.sum((y_true-y_pred)**2)/np.sum((np.mean(y_true)-y_true)**2)"
   ]
  },
  {
   "cell_type": "code",
   "execution_count": 15,
   "metadata": {},
   "outputs": [
    {
     "name": "stdout",
     "output_type": "stream",
     "text": [
      "-0.010603326133844737\n",
      "0.09211046979289239\n",
      "0.002716131947321121\n",
      "-1.1050319861910909\n",
      "-0.05533337387960224\n",
      "0.0026634946084436173\n"
     ]
    }
   ],
   "source": [
    "for i in range(3):\n",
    "    for j in range(2):\n",
    "\n",
    "        print(r2(y[:, i, j], y1[:,i,j]))"
   ]
  },
  {
   "cell_type": "code",
   "execution_count": 17,
   "metadata": {},
   "outputs": [],
   "source": [
    "import numpy as np\n",
    "import matplotlib.pyplot as plt\n",
    "import tensorflow as tf\n",
    "\n",
    "\n",
    "import pickle\n",
    "\n",
    "\n",
    "f = open('100.pickle', 'rb')\n",
    "a = pickle.load(f)"
   ]
  },
  {
   "cell_type": "code",
   "execution_count": 19,
   "metadata": {},
   "outputs": [
    {
     "data": {
      "text/plain": [
       "dict_keys(['x_train', 'x_valid', 'y_train', 'y_valid'])"
      ]
     },
     "execution_count": 19,
     "metadata": {},
     "output_type": "execute_result"
    }
   ],
   "source": [
    "a.keys()"
   ]
  },
  {
   "cell_type": "code",
   "execution_count": 20,
   "metadata": {},
   "outputs": [
    {
     "data": {
      "text/plain": [
       "(8917, 10, 8, 8, 3)"
      ]
     },
     "execution_count": 20,
     "metadata": {},
     "output_type": "execute_result"
    }
   ],
   "source": [
    "a['x_train'].shape"
   ]
  },
  {
   "cell_type": "code",
   "execution_count": 21,
   "metadata": {},
   "outputs": [
    {
     "data": {
      "text/plain": [
       "(2233, 10, 8, 8, 3)"
      ]
     },
     "execution_count": 21,
     "metadata": {},
     "output_type": "execute_result"
    }
   ],
   "source": [
    "a['x_valid'].shape"
   ]
  },
  {
   "cell_type": "code",
   "execution_count": 22,
   "metadata": {},
   "outputs": [
    {
     "data": {
      "text/plain": [
       "(8917, 1, 8, 8, 1)"
      ]
     },
     "execution_count": 22,
     "metadata": {},
     "output_type": "execute_result"
    }
   ],
   "source": [
    "a['y_train'].shape"
   ]
  },
  {
   "cell_type": "code",
   "execution_count": 23,
   "metadata": {},
   "outputs": [
    {
     "data": {
      "text/plain": [
       "(2233, 1, 8, 8, 1)"
      ]
     },
     "execution_count": 23,
     "metadata": {},
     "output_type": "execute_result"
    }
   ],
   "source": [
    "a['y_valid'].shape"
   ]
  },
  {
   "cell_type": "code",
   "execution_count": null,
   "metadata": {},
   "outputs": [],
   "source": []
  }
 ],
 "metadata": {
  "kernelspec": {
   "display_name": "Python 3",
   "language": "python",
   "name": "python3"
  },
  "language_info": {
   "codemirror_mode": {
    "name": "ipython",
    "version": 3
   },
   "file_extension": ".py",
   "mimetype": "text/x-python",
   "name": "python",
   "nbconvert_exporter": "python",
   "pygments_lexer": "ipython3",
   "version": "3.7.0"
  }
 },
 "nbformat": 4,
 "nbformat_minor": 4
}
